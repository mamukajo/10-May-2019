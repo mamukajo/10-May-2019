{
 "cells": [
  {
   "cell_type": "markdown",
   "metadata": {},
   "source": [
    "# Problem Solving and Programming\n",
    "## Day-12\n",
    "## Date-10 May 2019"
   ]
  },
  {
   "cell_type": "markdown",
   "metadata": {},
   "source": [
    "### Day objectives\n",
    "    *objective 1\n",
    "    *objective 2\n",
    "    *objective 3"
   ]
  },
  {
   "cell_type": "markdown",
   "metadata": {},
   "source": [
    "### Problem 1:\n",
    "\n",
    "#### Problem Statement\n",
    "Finding the greatest of 3 numbers\n",
    "\n",
    "#### Constraints\n",
    "\n",
    "### Test cases\n",
    "    *testcase 1\n",
    "    *testcase 2\n",
    "    *testcase 3\n",
    "   \n",
    "    "
   ]
  },
  {
   "cell_type": "code",
   "execution_count": 3,
   "metadata": {},
   "outputs": [
    {
     "name": "stdout",
     "output_type": "stream",
     "text": [
      "enter a number5\n",
      "enter a number9\n",
      "enter a number1\n",
      "y is greater\n"
     ]
    }
   ],
   "source": [
    "x=int(input(\"enter a number\"))\n",
    "y=int(input(\"enter a number\"))\n",
    "z=int(input(\"enter a number\"))\n",
    "def greatest(x,y,z):\n",
    "    if(x>y and x>z):\n",
    "        print(\"x is greater\")\n",
    "    elif(y>z):\n",
    "        print(\"y is greater\")\n",
    "    else:\n",
    "        print(\"z is greater\")\n",
    "greatest(x,y,z)\n",
    "        \n",
    "        \n",
    "    "
   ]
  },
  {
   "cell_type": "code",
   "execution_count": null,
   "metadata": {},
   "outputs": [],
   "source": []
  },
  {
   "cell_type": "markdown",
   "metadata": {},
   "source": [
    "### Problem 2:\n",
    "\n",
    "#### Problem Statement\n",
    "Designing procedures for Basic Arithmetic operations\n",
    "\n",
    "#### Constraints\n",
    "\n",
    "### Test cases\n",
    "    *testcase 1\n",
    "    *testcase 2\n",
    "    *testcase 3"
   ]
  },
  {
   "cell_type": "code",
   "execution_count": 8,
   "metadata": {},
   "outputs": [
    {
     "name": "stdout",
     "output_type": "stream",
     "text": [
      "enter a number10\n",
      "enter a number2\n",
      "12\n",
      "8\n",
      "20\n",
      "5.0\n",
      "0\n"
     ]
    }
   ],
   "source": [
    "x=int(input(\"enter a number\"))\n",
    "y=int(input(\"enter a number\"))\n",
    "def add(x,y):\n",
    "    g=x+y\n",
    "    print(g)\n",
    "def sub(x,y):\n",
    "    f=x-y\n",
    "    print(f)\n",
    "def mul(x,y):\n",
    "    e=x*y\n",
    "    print(e)\n",
    "def div(x,y):\n",
    "    d=x/y\n",
    "    print(d)\n",
    "def modulus(x,y):\n",
    "    c=x%y\n",
    "    print(c)\n",
    "add(x,y)\n",
    "sub(x,y)\n",
    "mul(x,y)\n",
    "div(x,y)\n",
    "modulus(x,y)"
   ]
  },
  {
   "cell_type": "code",
   "execution_count": null,
   "metadata": {},
   "outputs": [],
   "source": []
  },
  {
   "cell_type": "markdown",
   "metadata": {},
   "source": [
    "### Problem 3:\n",
    "\n",
    "#### Problem Statement\n",
    "Given an int n, return True if it is within 10 of 100 or 200. Note: abs(num) computes the absolute value of a number.\n",
    "\n",
    "#### Constraints\n",
    "\n",
    "### Test cases\n",
    "    *near_hundred(93) → True\n",
    "    *near_hundred(90) → True\n",
    "    *near_hundred(89) → False"
   ]
  },
  {
   "cell_type": "code",
   "execution_count": 27,
   "metadata": {},
   "outputs": [
    {
     "name": "stdout",
     "output_type": "stream",
     "text": [
      "enter a number100\n"
     ]
    },
    {
     "data": {
      "text/plain": [
       "True"
      ]
     },
     "execution_count": 27,
     "metadata": {},
     "output_type": "execute_result"
    }
   ],
   "source": [
    "num=int(input(\"enter a number\"))\n",
    "def abs1(num):\n",
    "    var=abs(num)\n",
    "    if(((var>89) and (var<101)) or ((var>189) and (var<201))):\n",
    "        return True\n",
    "    else:\n",
    "        return False\n",
    "abs1(num)"
   ]
  },
  {
   "cell_type": "markdown",
   "metadata": {},
   "source": [
    "### Problem 4:\n",
    "\n",
    "#### Problem Statement\n",
    "Procedure to generate multiplication tables. \n",
    "\n",
    "#### Constraints\n",
    "\n",
    "### Test cases\n",
    "    *MT(3, 5, 7) -> 3 X 5 = 15\n",
    "\n",
    "                    3 X 6 = 18\n",
    "\n",
    "                    3 X 7 = 21"
   ]
  },
  {
   "cell_type": "code",
   "execution_count": 10,
   "metadata": {},
   "outputs": [
    {
     "name": "stdout",
     "output_type": "stream",
     "text": [
      "enter a number3\n",
      "enter a number1\n",
      "enter a number10\n",
      "3 X 1 = 3\n",
      "3 X 2 = 6\n",
      "3 X 3 = 9\n",
      "3 X 4 = 12\n",
      "3 X 5 = 15\n",
      "3 X 6 = 18\n",
      "3 X 7 = 21\n",
      "3 X 8 = 24\n",
      "3 X 9 = 27\n",
      "3 X 10 = 30\n"
     ]
    }
   ],
   "source": [
    "a=int(input(\"enter a number\"))\n",
    "\n",
    "b=int(input(\"enter a number\"))\n",
    "n=int(input(\"enter a number\"))\n",
    "def multiplicationTable(a,b,n):\n",
    "    for b in range(b,n+1):\n",
    "        print(a,\"X\",b,\"=\",a*b)\n",
    "multiplicationTable(a,b,n)\n",
    "    "
   ]
  },
  {
   "cell_type": "code",
   "execution_count": null,
   "metadata": {},
   "outputs": [],
   "source": []
  },
  {
   "cell_type": "markdown",
   "metadata": {},
   "source": [
    "### Problem 5:\n",
    "\n",
    "#### Problem Statement\n",
    " Procedure to print the list of factors of a given number.\n",
    " \n",
    "#### Constraints\n",
    "\n",
    "### Test cases\n",
    "    * FactorList(6)  ->  1 2 3 6\n",
    "\n",
    "    * FactorList (9) ->   1 3 9\n",
    "\n",
    "    * FactorList (19) ->  1  19\n",
    "\n"
   ]
  },
  {
   "cell_type": "code",
   "execution_count": 29,
   "metadata": {},
   "outputs": [
    {
     "name": "stdout",
     "output_type": "stream",
     "text": [
      "enter a number36\n",
      "1\n",
      "2\n",
      "3\n",
      "4\n",
      "6\n",
      "9\n",
      "12\n",
      "18\n"
     ]
    }
   ],
   "source": [
    "a=int(input(\"enter a number\"))\n",
    "def factors(a):\n",
    "    for i in range(1,a):\n",
    "        if a%i==0:\n",
    "            print(i)\n",
    "factors(a)"
   ]
  },
  {
   "cell_type": "code",
   "execution_count": null,
   "metadata": {},
   "outputs": [],
   "source": []
  },
  {
   "cell_type": "markdown",
   "metadata": {},
   "source": [
    "### Problem 6:\n",
    "\n",
    "#### Problem Statement\n",
    "Find power of a number using recurrsion\n",
    "\n",
    "#### Constraints\n",
    "\n",
    "### Test cases\n",
    "    *testcase 1\n",
    "    *testcase 2\n",
    "    *testcase 3\n",
    "   \n",
    "    "
   ]
  },
  {
   "cell_type": "code",
   "execution_count": 34,
   "metadata": {},
   "outputs": [
    {
     "data": {
      "text/plain": [
       "1024"
      ]
     },
     "execution_count": 34,
     "metadata": {},
     "output_type": "execute_result"
    }
   ],
   "source": [
    "def power(n,r):\n",
    "    if r==1:\n",
    "        return n\n",
    "    else:\n",
    "        return power(n,r-1)*n\n",
    "power(2,10)"
   ]
  },
  {
   "cell_type": "code",
   "execution_count": null,
   "metadata": {},
   "outputs": [],
   "source": []
  },
  {
   "cell_type": "markdown",
   "metadata": {},
   "source": [
    "### Problem 7:\n",
    "#### Problem Statement\n",
    "Finf the factorial of a number using recurrsion\n",
    "\n",
    "#### Constraints\n",
    "\n",
    "### Test cases\n",
    "    *testcase 1\n",
    "    *testcase 2\n",
    "    *testcase 3\n",
    "   \n",
    "    "
   ]
  },
  {
   "cell_type": "code",
   "execution_count": 36,
   "metadata": {},
   "outputs": [
    {
     "data": {
      "text/plain": [
       "120"
      ]
     },
     "execution_count": 36,
     "metadata": {},
     "output_type": "execute_result"
    }
   ],
   "source": [
    "def factorial(n):\n",
    "    if n==1:\n",
    "        return n\n",
    "    else:\n",
    "        return factorial(n-1)*n\n",
    "factorial(5)\n"
   ]
  },
  {
   "cell_type": "code",
   "execution_count": null,
   "metadata": {},
   "outputs": [],
   "source": []
  },
  {
   "cell_type": "markdown",
   "metadata": {},
   "source": [
    "### Problem 8:\n",
    "\n",
    "#### Problem Statement\n",
    "Find the GCD of a number using recurrsion\n",
    "#### Constraints\n",
    "\n",
    "### Test cases\n",
    "    *testcase 1\n",
    "    *testcase 2\n",
    "    *testcase 3\n",
    "   \n",
    "    "
   ]
  },
  {
   "cell_type": "code",
   "execution_count": 39,
   "metadata": {},
   "outputs": [
    {
     "data": {
      "text/plain": [
       "12"
      ]
     },
     "execution_count": 39,
     "metadata": {},
     "output_type": "execute_result"
    }
   ],
   "source": [
    "def gcd(n,r):\n",
    "    if r%n==0:\n",
    "        return n\n",
    "    else:\n",
    "        return gcd(r%n,n)\n",
    "gcd(12,48)    \n"
   ]
  },
  {
   "cell_type": "code",
   "execution_count": null,
   "metadata": {},
   "outputs": [],
   "source": []
  },
  {
   "cell_type": "markdown",
   "metadata": {},
   "source": [
    "### Problem 8:\n",
    "\n",
    "#### Problem Statement\n",
    "Given N disks and three towers sources\n",
    "#### Constraints\n",
    "Move only one disk at a time\n",
    "Larger dick cannot be placed ona smaller disk\n",
    "\n",
    "### Test cases\n",
    "    *testcase 1\n",
    "    *testcase 2\n",
    "    *testcase 3\n",
    "   \n",
    "    "
   ]
  },
  {
   "cell_type": "code",
   "execution_count": 43,
   "metadata": {},
   "outputs": [
    {
     "name": "stdout",
     "output_type": "stream",
     "text": [
      "Move 1 disk from A to c\n",
      "Move 2 disk from A to B\n",
      "Move 1 disk from c to B\n",
      "Move 3 disk from A to c\n",
      "Move 1 disk from B to A\n",
      "Move 2 disk from B to c\n",
      "Move 1 disk from A to c\n"
     ]
    }
   ],
   "source": [
    "def towerOfHanoi(n,source,temp,dest):\n",
    "    if n==1:\n",
    "        print('Move',n,'disk from',source,'to',dest)\n",
    "        return\n",
    "    else:\n",
    "        towerOfHanoi(n-1,source,dest,temp)\n",
    "        print('Move',n,'disk from',source,'to',dest)\n",
    "        towerOfHanoi(n-1,temp,source,dest)\n",
    "        return\n",
    "towerOfHanoi(3,'A','B','c')"
   ]
  },
  {
   "cell_type": "code",
   "execution_count": null,
   "metadata": {},
   "outputs": [],
   "source": []
  },
  {
   "cell_type": "markdown",
   "metadata": {},
   "source": [
    "### Problem 9:\n",
    "\n",
    "#### Problem Statement\n",
    "Generating the nth Fibonacci number\n",
    "\n",
    "#### Constraints\n",
    "\n",
    "### Test cases\n",
    "    *testcase 1\n",
    "    *testcase 2\n",
    "    *testcase 3"
   ]
  },
  {
   "cell_type": "code",
   "execution_count": 44,
   "metadata": {},
   "outputs": [
    {
     "data": {
      "text/plain": [
       "2"
      ]
     },
     "execution_count": 44,
     "metadata": {},
     "output_type": "execute_result"
    }
   ],
   "source": [
    "def fibonacci(n):\n",
    "    if n==0:\n",
    "        return 0\n",
    "    elif n==1:\n",
    "        return 1\n",
    "    elif n==2:\n",
    "        return 1\n",
    "    else:\n",
    "        return fibonacci(n-1)+fibonacci(n-2)\n",
    "fibonacci(3)"
   ]
  },
  {
   "cell_type": "code",
   "execution_count": null,
   "metadata": {},
   "outputs": [],
   "source": []
  }
 ],
 "metadata": {
  "kernelspec": {
   "display_name": "Python 3",
   "language": "python",
   "name": "python3"
  },
  "language_info": {
   "codemirror_mode": {
    "name": "ipython",
    "version": 3
   },
   "file_extension": ".py",
   "mimetype": "text/x-python",
   "name": "python",
   "nbconvert_exporter": "python",
   "pygments_lexer": "ipython3",
   "version": "3.7.3"
  }
 },
 "nbformat": 4,
 "nbformat_minor": 2
}
